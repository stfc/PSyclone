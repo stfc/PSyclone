{
 "cells": [
  {
   "cell_type": "markdown",
   "metadata": {},
   "source": [
    "# PSyclone tutorial: Use of Fparser2 in PSyclone"
   ]
  },
  {
   "cell_type": "markdown",
   "metadata": {},
   "source": [
    "This example shows how PSyclone reads existing Fortran code using a parser called fparser2."
   ]
  },
  {
   "cell_type": "markdown",
   "metadata": {},
   "source": [
    "First let's specify a simple Fortran code in a Python string. PSyclone typically reads codes from files but it is easier to demonstrate what is happening using a string."
   ]
  },
  {
   "cell_type": "code",
   "execution_count": null,
   "metadata": {},
   "outputs": [],
   "source": [
    "code = '''program test\n",
    "  implicit none\n",
    "  integer, parameter :: ni=10, nj=10, nk=10\n",
    "  real, dimension(ni,nj,nk) :: a,b\n",
    "  integer :: i,j,k\n",
    "  do k=1,nk\n",
    "    do j=1,nj\n",
    "      do i=1,ni\n",
    "        a(i,j,k) = b(i,j,k)\n",
    "      end do\n",
    "    end do\n",
    "  end do\n",
    "end program test'''"
   ]
  },
  {
   "cell_type": "markdown",
   "metadata": {},
   "source": [
    "PSyclone parses this code using a Fortran parser called fparser2 (see https://fparser.readthedocs.io/en/stable/ if you are interested). Notice that we choose the Fortran2003 standard (`std=f2003`) below. It is also possible to choose Fortran 2008 (std=`f2008`), however newer standards are not yet available in fparser2."
   ]
  },
  {
   "cell_type": "code",
   "execution_count": null,
   "metadata": {},
   "outputs": [],
   "source": [
    "from fparser.common.readfortran import FortranStringReader\n",
    "reader = FortranStringReader(code)\n",
    "from fparser.two.parser import ParserFactory\n",
    "parser = ParserFactory().create(std=\"f2003\")\n",
    "parse_tree = parser(reader)"
   ]
  },
  {
   "cell_type": "markdown",
   "metadata": {},
   "source": [
    "The parsed code (stored in the `parse_tree` variable) can be printed out. As expected, the same code that we defined in the original code is output. The only way to know that something has happened is that the formatting and case has changed."
   ]
  },
  {
   "cell_type": "code",
   "execution_count": null,
   "metadata": {},
   "outputs": [],
   "source": [
    "print(str(parse_tree))"
   ]
  },
  {
   "cell_type": "markdown",
   "metadata": {},
   "source": [
    "The parser has created a tree of nodes which conform to the rules that specify the Fortran 2003 language. Next we print out this tree as text to see all of the nodes that have been created. The names of these nodes correspond to the rules that specify the Fortran 2003 language. If you are interested you can see these rules here (https://wg5-fortran.org/N1601-N1650/N1601.pdf)."
   ]
  },
  {
   "cell_type": "code",
   "execution_count": null,
   "metadata": {},
   "outputs": [],
   "source": [
    "print(repr(parse_tree))"
   ]
  },
  {
   "cell_type": "markdown",
   "metadata": {},
   "source": [
    "So, why do we use fparser2 in PSyclone? The main reason is that it makes it very easy to extract information about the code in a robust way. Originally the code was stored as a string, now it is stored in a structured way. For example, if we want to get access to all the assignment statements ..."
   ]
  },
  {
   "cell_type": "code",
   "execution_count": null,
   "metadata": {},
   "outputs": [],
   "source": [
    "from fparser.two.utils import walk\n",
    "from fparser.two.Fortran2003 import Assignment_Stmt\n",
    "for node in walk(parse_tree, Assignment_Stmt):\n",
    "    print(node)"
   ]
  },
  {
   "cell_type": "markdown",
   "metadata": {},
   "source": [
    "It is also possible to modify the parse tree, although it is currently a little cumbersome due to the use of tuples which are immutable. Improving this in fparser2 is work in progress. In the example below we change the values of the `ni`, `nj` and `nk` parameters."
   ]
  },
  {
   "cell_type": "code",
   "execution_count": null,
   "metadata": {},
   "outputs": [],
   "source": [
    "from fparser.two.utils import walk\n",
    "from fparser.two.Fortran2003 import Int_Literal_Constant\n",
    "for node in walk(parse_tree, Int_Literal_Constant):\n",
    "    children = list(node.items)\n",
    "    children[0] = \"20\"\n",
    "    node.items = tuple(children)\n",
    "print(parse_tree)"
   ]
  },
  {
   "cell_type": "markdown",
   "metadata": {},
   "source": [
    "If you would like to try something yourself why not try to print out all of the  `do` statements. Hint: follow the approach taken for printing assignment statements."
   ]
  },
  {
   "cell_type": "code",
   "execution_count": null,
   "metadata": {},
   "outputs": [],
   "source": []
  },
  {
   "cell_type": "markdown",
   "metadata": {},
   "source": [
    "Congratulations. You've completed the fparser2 section of the tutorial.\n",
    "Back to the [Introduction section](../introduction.ipynb)."
   ]
  }
 ],
 "metadata": {
  "kernelspec": {
   "display_name": "Python 3",
   "language": "python",
   "name": "python3"
  },
  "language_info": {
   "codemirror_mode": {
    "name": "ipython",
    "version": 3
   },
   "file_extension": ".py",
   "mimetype": "text/x-python",
   "name": "python",
   "nbconvert_exporter": "python",
   "pygments_lexer": "ipython3",
   "version": "3.8.10"
  }
 },
 "nbformat": 4,
 "nbformat_minor": 2
}
