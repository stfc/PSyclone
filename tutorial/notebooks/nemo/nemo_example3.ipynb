{
 "cells": [
  {
   "cell_type": "markdown",
   "metadata": {},
   "source": [
    "# PSyclone tutorial: NEMO API Example 3 - OpenMP"
   ]
  },
  {
   "cell_type": "markdown",
   "metadata": {},
   "source": [
    "This example shows how we can add OpenMP directives to the code using a transformation. The resulting code can be run in parallel on multi-core processors.\n",
    "\n",
    "Let's continue with the code introduced in example 2 and create a schedule from it:"
   ]
  },
  {
   "cell_type": "code",
   "execution_count": null,
   "metadata": {},
   "outputs": [],
   "source": [
    "code = '''program test\n",
    "  implicit none\n",
    "  integer, parameter :: jpi=10, jpj=10, jpk=10\n",
    "  real, dimension(jpi,jpj,jpk) :: a,b\n",
    "  integer :: ji,jj,jk\n",
    "  call timer_start()\n",
    "  do jk=1,jpk\n",
    "    do jj=1,jpj\n",
    "      do ji=1,jpi\n",
    "        b(ji,jj,jk) = 0.0\n",
    "      end do\n",
    "    end do\n",
    "  end do\n",
    "  do jk=1,jpk\n",
    "    do jj=1,jpj\n",
    "      do ji=1,jpi\n",
    "        a(ji,jj,jk) = b(ji,jj,jk)\n",
    "      end do\n",
    "    end do\n",
    "  end do\n",
    "  call timer_end()\n",
    "  write (6,*) \"HELLO\"\n",
    "end program test'''"
   ]
  },
  {
   "cell_type": "code",
   "execution_count": null,
   "metadata": {},
   "outputs": [],
   "source": [
    "from fparser.common.readfortran import FortranStringReader\n",
    "reader = FortranStringReader(code)\n",
    "from fparser.two.parser import ParserFactory\n",
    "parser = ParserFactory().create(std=\"f2003\")\n",
    "parse_tree = parser(reader)\n",
    "\n",
    "from psyclone.psyGen import PSyFactory\n",
    "psy = PSyFactory(\"nemo\").create(parse_tree)\n",
    "\n",
    "invoke = psy.invokes.invoke_list[0]\n",
    "schedule = invoke.schedule\n",
    "\n",
    "schedule.view()"
   ]
  },
  {
   "cell_type": "markdown",
   "metadata": {},
   "source": [
    "Now that we have created the PSyIR representation of the code we apply a PSyclone OpenMP transformation. The transformation adds OpenMP nodes around all loops that PSyclone has determined to be over latitude. Notice that the transformation also checks whether the loop contains a kernel. If not this loop is not parallelised. This avoids parallelising loops without any relevant computation in them (not strictly required in this particular example)."
   ]
  },
  {
   "cell_type": "code",
   "execution_count": null,
   "metadata": {},
   "outputs": [],
   "source": [
    "from psyclone.transformations import OMPParallelLoopTrans\n",
    "from psyclone.nemo import NemoKern\n",
    "omp_trans = OMPParallelLoopTrans()\n",
    "for loop in schedule.loops():\n",
    "    kernels = loop.walk(NemoKern)\n",
    "    if kernels and loop.loop_type == \"lat\":\n",
    "        omp_trans.apply(loop)"
   ]
  },
  {
   "cell_type": "markdown",
   "metadata": {},
   "source": [
    "Taking a look at what has happened to the PSyIR representation you can see that new OpenMP nodes have been added in the appropriate places."
   ]
  },
  {
   "cell_type": "code",
   "execution_count": null,
   "metadata": {},
   "outputs": [],
   "source": [
    "schedule.view()"
   ]
  },
  {
   "cell_type": "markdown",
   "metadata": {},
   "source": [
    "If we've finished with our transformations we can write out the resultant code which can now run in parallel using OpenMP. Notice that there are some clauses in the OpenMP directives including declarations of private variables. PSyclone works out what these should be for correct execution so you don't need to worry about them.\n",
    "\n",
    "The [transformation](https://psyclone.readthedocs.io/en/stable/transformations.html#available-transformations) provides an optional argument allowing you to set a schedule other than `static`."
   ]
  },
  {
   "cell_type": "code",
   "execution_count": null,
   "metadata": {},
   "outputs": [],
   "source": [
    "print(psy.gen)"
   ]
  },
  {
   "cell_type": "markdown",
   "metadata": {},
   "source": [
    "You might like to try to change the application of the transformation so that the parallelisation is over levels. You could also try to change the schedule. To do this you will need to look at the PSyclone [user guide](https://psyclone.readthedocs.io/en/stable/transformations.html#available-transformations) to find the necessary optional argument to the transformation."
   ]
  },
  {
   "cell_type": "code",
   "execution_count": null,
   "metadata": {},
   "outputs": [],
   "source": []
  },
  {
   "cell_type": "markdown",
   "metadata": {},
   "source": [
    "Let's move on to the [next example](nemo_example4.ipynb)..."
   ]
  }
 ],
 "metadata": {
  "kernelspec": {
   "display_name": "Python 3",
   "language": "python",
   "name": "python3"
  },
  "language_info": {
   "codemirror_mode": {
    "name": "ipython",
    "version": 3
   },
   "file_extension": ".py",
   "mimetype": "text/x-python",
   "name": "python",
   "nbconvert_exporter": "python",
   "pygments_lexer": "ipython3",
   "version": "3.6.7"
  }
 },
 "nbformat": 4,
 "nbformat_minor": 2
}
