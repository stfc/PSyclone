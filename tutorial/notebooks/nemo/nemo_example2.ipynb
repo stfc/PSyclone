{
 "cells": [
  {
   "cell_type": "markdown",
   "metadata": {},
   "source": [
    "# PSyclone tutorial: NEMO API Example 2 - Unsupported Code"
   ]
  },
  {
   "cell_type": "markdown",
   "metadata": {},
   "source": [
    "The PSyIR is designed to capture the computational parts of a code (as these are what we want to optimise and parallelise). This example shows how PSyclone deals with any unsupported code in the NEMO API."
   ]
  },
  {
   "cell_type": "markdown",
   "metadata": {},
   "source": [
    "First let's specify a simple Fortran code in a Python string. This example is the same as in Example 1 except that it includes a call to another subroutine and a write to a file. These are added because the PSyIR does not currently capture either of these constructs."
   ]
  },
  {
   "cell_type": "code",
   "execution_count": null,
   "metadata": {},
   "outputs": [],
   "source": [
    "code = '''program test\n",
    "  implicit none\n",
    "  integer, parameter :: jpi=10, jpj=10, jpk=10\n",
    "  real, dimension(jpi,jpj,jpk) :: a,b\n",
    "  integer :: ji,jj,jk\n",
    "  call timer_start()\n",
    "  do jk=1,jpk\n",
    "    do jj=1,jpj\n",
    "      do ji=1,jpi\n",
    "        b(ji,jj,jk) = 0.0\n",
    "      end do\n",
    "    end do\n",
    "  end do\n",
    "  do jk=1,jpk\n",
    "    do jj=1,jpj\n",
    "      do ji=1,jpi\n",
    "        a(ji,jj,jk) = b(ji,jj,jk)\n",
    "      end do\n",
    "    end do\n",
    "  end do\n",
    "  call timer_end()\n",
    "  write (6,*) \"HELLO\"\n",
    "end program test'''"
   ]
  },
  {
   "cell_type": "markdown",
   "metadata": {},
   "source": [
    "Next we parse the code, create the PSyIR and take a look at it."
   ]
  },
  {
   "cell_type": "code",
   "execution_count": null,
   "metadata": {},
   "outputs": [],
   "source": [
    "from fparser.common.readfortran import FortranStringReader\n",
    "reader = FortranStringReader(code)\n",
    "from fparser.two.parser import ParserFactory\n",
    "parser = ParserFactory().create(std=\"f2003\")\n",
    "parse_tree = parser(reader)\n",
    "\n",
    "from psyclone.psyGen import PSyFactory\n",
    "psy = PSyFactory(\"nemo\").create(parse_tree)\n",
    "\n",
    "invoke = psy.invokes.invoke_list[0]\n",
    "schedule = invoke.schedule\n",
    "\n",
    "schedule.view()"
   ]
  },
  {
   "cell_type": "markdown",
   "metadata": {},
   "source": [
    "As can be seen, the write statement and the two calls are captured in nodes called CodeBlocks. A CodeBlock is a sequence of statements that the PSyIR does not deal with and can therefore not transform/optimise.\n",
    "\n",
    "This approach allows transformations/optimisations on the code that is supported whilst not requiring that the full Fortran code with its various esoteric features be captured. This, of course, assumes that all of the relevant computational code is captured in the PSyIR.\n",
    "\n",
    "One way to think about this is that the PSyIR illuminates the computational parts of a code leaving the rest in the dark.\n",
    "\n",
    "As the CodeBlock keeps the fparser2 representation of the code, this can be used to output the unmodified section of code when writing the output.\n",
    "\n",
    "One limitation of this approach is that the parts of the code that the PSyIR does not understand must be output as Fortran code. Therefore, if a CodeBlock exists in the PSyIR representation of a Fortran program, the code must also be Fortran. It might be possible to create language wrappers around the CodeBlocks but this is not done at present.\n",
    "\n",
    "Just to confirm that this approach works, let's write out the unmodified code."
   ]
  },
  {
   "cell_type": "code",
   "execution_count": null,
   "metadata": {},
   "outputs": [],
   "source": [
    "print((psy.gen))"
   ]
  },
  {
   "cell_type": "markdown",
   "metadata": {},
   "source": [
    "Let's move on to the [next example](nemo_example3.ipynb)..."
   ]
  }
 ],
 "metadata": {
  "kernelspec": {
   "display_name": "Python 3",
   "language": "python",
   "name": "python3"
  },
  "language_info": {
   "codemirror_mode": {
    "name": "ipython",
    "version": 3
   },
   "file_extension": ".py",
   "mimetype": "text/x-python",
   "name": "python",
   "nbconvert_exporter": "python",
   "pygments_lexer": "ipython3",
   "version": "3.6.7"
  }
 },
 "nbformat": 4,
 "nbformat_minor": 2
}
