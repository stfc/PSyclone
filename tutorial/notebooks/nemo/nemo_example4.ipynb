{
 "cells": [
  {
   "cell_type": "markdown",
   "metadata": {},
   "source": [
    "# PSyclone tutorial: NEMO API Example 4 - OpenACC"
   ]
  },
  {
   "cell_type": "markdown",
   "metadata": {},
   "source": [
    "This example shows how we can add OpenACC directives to the code using a transformation to make the code run in parallel on GPU accelerators.\n",
    "\n",
    "As before, let's continue with the code introduced in example 2 and create a schedule from it:"
   ]
  },
  {
   "cell_type": "code",
   "execution_count": null,
   "metadata": {},
   "outputs": [],
   "source": [
    "code = '''program test\n",
    "  implicit none\n",
    "  integer, parameter :: jpi=10, jpj=10, jpk=10\n",
    "  real, dimension(jpi,jpj,jpk) :: a,b\n",
    "  integer :: ji,jj,jk\n",
    "  call timer_start()\n",
    "  do jk=1,jpk\n",
    "    do jj=1,jpj\n",
    "      do ji=1,jpi\n",
    "        b(ji,jj,jk) = 0.0\n",
    "      end do\n",
    "    end do\n",
    "  end do\n",
    "  do jk=1,jpk\n",
    "    do jj=1,jpj\n",
    "      do ji=1,jpi\n",
    "        a(ji,jj,jk) = b(ji,jj,jk)\n",
    "      end do\n",
    "    end do\n",
    "  end do\n",
    "  call timer_end()\n",
    "  write (6,*) \"HELLO\"\n",
    "end program test'''"
   ]
  },
  {
   "cell_type": "code",
   "execution_count": null,
   "metadata": {},
   "outputs": [],
   "source": [
    "from fparser.common.readfortran import FortranStringReader\n",
    "reader = FortranStringReader(code)\n",
    "from fparser.two.parser import ParserFactory\n",
    "parser = ParserFactory().create(std=\"f2003\")\n",
    "parse_tree = parser(reader)\n",
    "\n",
    "from psyclone.psyGen import PSyFactory\n",
    "psy = PSyFactory(\"nemo\").create(parse_tree)\n",
    "\n",
    "invoke = psy.invokes.invoke_list[0]\n",
    "schedule = invoke.schedule\n",
    "\n",
    "schedule.view()"
   ]
  },
  {
   "cell_type": "markdown",
   "metadata": {},
   "source": [
    "Now that we have created the PSyIR representation of the code we apply two PSyclone OpenACC transformations.\n",
    "\n",
    "The OpenACC Kernels transformation adds an OpenACC Kernels node around the two computational loops. In this case we explicitly provide the two loops we would like to enclose as a list. The numbers in the schedule view above can be used to see how the numbers in the script link up to the schedule nodes. This directive tells the compiler to try to parallelise this region of code.\n",
    "\n",
    "The OpenACC Data tranformation adds an OpenACC data region around the newly created Kernels region. This directive tells the compiler which data to copy to and from the accelerator within the specified region. Note, PSyclone works out what data should be copied in and out of this region so the user does not need to work it out."
   ]
  },
  {
   "cell_type": "code",
   "execution_count": null,
   "metadata": {},
   "outputs": [],
   "source": [
    "from psyclone.transformations import ACCDataTrans, ACCKernelsTrans\n",
    "acc_kern_trans = ACCKernelsTrans()\n",
    "acc_data_trans = ACCDataTrans()\n",
    "_, _ = acc_kern_trans.apply(schedule.children[1:3])\n",
    "_, _ = acc_data_trans.apply([schedule.children[1]])"
   ]
  },
  {
   "cell_type": "markdown",
   "metadata": {},
   "source": [
    "Taking a look at what has happened to the PSyIR representation you can see that new OpenACC Kernels and Data nodes have been added in the appropriate places:"
   ]
  },
  {
   "cell_type": "code",
   "execution_count": null,
   "metadata": {},
   "outputs": [],
   "source": [
    "schedule.view()"
   ]
  },
  {
   "cell_type": "markdown",
   "metadata": {},
   "source": [
    "If we've finished with our transformations we can write out the resultant code which can now run in parallel using OpenACC. Notice that the dependencies of the array variables in the OpenACC region has been analysed by PSyclone and the appropriate clause added to the OpenACC Data directive:"
   ]
  },
  {
   "cell_type": "code",
   "execution_count": null,
   "metadata": {},
   "outputs": [],
   "source": [
    "print(psy.gen)"
   ]
  },
  {
   "cell_type": "markdown",
   "metadata": {},
   "source": [
    "In the last two examples we have taken the same source code and used PSyclone transformations to transform the code to run on multi-core CPUs (in the previous example) or GPU accelerators (in this example). This approach allows scientists to write the source code once without being concerned with parallel constructs such as OpenMP and OpenACC directives, thereby helping with scientific productivity. It also allows the code to be optimised for different architectures using different PSyclone transformations, thereby supporting performance portability."
   ]
  },
  {
   "cell_type": "markdown",
   "metadata": {},
   "source": [
    "Congratulations, you have finished the nemo section of the tutorial."
   ]
  }
 ],
 "metadata": {
  "kernelspec": {
   "display_name": "Python 3",
   "language": "python",
   "name": "python3"
  },
  "language_info": {
   "codemirror_mode": {
    "name": "ipython",
    "version": 3
   },
   "file_extension": ".py",
   "mimetype": "text/x-python",
   "name": "python",
   "nbconvert_exporter": "python",
   "pygments_lexer": "ipython3",
   "version": "3.6.7"
  }
 },
 "nbformat": 4,
 "nbformat_minor": 2
}
