{
 "cells": [
  {
   "cell_type": "markdown",
   "metadata": {},
   "source": [
    "# PSyIR Example 2 - Semantic Navigation"
   ]
  },
  {
   "cell_type": "markdown",
   "metadata": {},
   "source": [
    "This example shows how to traverse the PSyIR using semantic navigation. Again we begin with Fortran conforming to the NEMO coding standards:"
   ]
  },
  {
   "cell_type": "code",
   "execution_count": null,
   "metadata": {},
   "outputs": [],
   "source": [
    "code = '''program test\n",
    "  implicit none\n",
    "  logical, parameter :: ln_do_this = .TRUE.\n",
    "  integer, parameter :: jpk=10\n",
    "  real, dimension(jpk) :: b\n",
    "  integer :: ji,jj,jk\n",
    "  if(ln_do_this)then\n",
    "    do jk=1,jpk\n",
    "      b(jk) = 0.0\n",
    "    end do\n",
    "  else\n",
    "    b(1) = -1.0\n",
    "  end if\n",
    "end program test'''"
   ]
  },
  {
   "cell_type": "markdown",
   "metadata": {},
   "source": [
    "Next, we use PSyclone to create the PSyclone Internal Representation of this code:"
   ]
  },
  {
   "cell_type": "code",
   "execution_count": null,
   "metadata": {},
   "outputs": [],
   "source": [
    "from fparser.common.readfortran import FortranStringReader\n",
    "reader = FortranStringReader(code)\n",
    "from fparser.two.parser import ParserFactory\n",
    "parser = ParserFactory().create(std=\"f2003\")\n",
    "parse_tree = parser(reader)\n",
    "\n",
    "from psyclone.psyGen import PSyFactory\n",
    "psy = PSyFactory(\"nemo\").create(parse_tree)\n",
    "\n",
    "invoke = psy.invokes.invoke_list[0]\n",
    "schedule = invoke.schedule\n",
    "\n",
    "schedule.view()"
   ]
  },
  {
   "cell_type": "markdown",
   "metadata": {},
   "source": [
    "Previously, we learned that each PSyIR node has the `parent` and `children` attributes. However, where appropriate, certain classes of node also support semantic navigation. The `If` node for instance has the logical expression as its first child, the body as its second and the body of any `else` clause as its third.  Similarly, the `Loop` node has its loop bounds and increment as its first three children and the loop body as the fourth. Therefore, in order to simplify navigation and insulate it from any future changes in tree structure, the `If` and `Loop` nodes have the `xx_body` methods:"
   ]
  },
  {
   "cell_type": "code",
   "execution_count": null,
   "metadata": {},
   "outputs": [],
   "source": [
    "if_block = schedule.children[0]\n",
    "body = if_block.if_body\n",
    "print(\"If body: \", type(body.children[0]))\n",
    "loop = body.children[0]\n",
    "loop_body = loop.loop_body\n",
    "print(\"Loop body: \", type(loop_body.children[0]))"
   ]
  },
  {
   "cell_type": "code",
   "execution_count": null,
   "metadata": {},
   "outputs": [],
   "source": [
    "else_body = if_block.else_body\n",
    "print(\"Else body: \", type(else_body.children[0]))"
   ]
  },
  {
   "cell_type": "markdown",
   "metadata": {},
   "source": [
    "The logical condition associated with the `If` is accessed using the `condition` property:"
   ]
  },
  {
   "cell_type": "code",
   "execution_count": null,
   "metadata": {},
   "outputs": [],
   "source": [
    "print(\"If condition: \", if_block.condition)"
   ]
  },
  {
   "cell_type": "markdown",
   "metadata": {},
   "source": [
    "Finally, the `Assignment` node has the `lhs` and `rhs` methods:"
   ]
  },
  {
   "cell_type": "code",
   "execution_count": null,
   "metadata": {},
   "outputs": [],
   "source": [
    "assign = else_body.children[0]\n",
    "print(\"LHS = \", assign.lhs.name)\n",
    "print(\"RHS = \", type(assign.rhs))"
   ]
  },
  {
   "cell_type": "markdown",
   "metadata": {},
   "source": [
    "Please see the [User Guide](https://psyclone.readthedocs.io/en/stable/psyir.html#psyir-the-psyclone-internal-representation) for more details on navigating the PSyIR.\n",
    "\n",
    "Congratulations, you have finished the PSyIR section of the tutorial."
   ]
  }
 ],
 "metadata": {
  "kernelspec": {
   "display_name": "Python 3",
   "language": "python",
   "name": "python3"
  },
  "language_info": {
   "codemirror_mode": {
    "name": "ipython",
    "version": 3
   },
   "file_extension": ".py",
   "mimetype": "text/x-python",
   "name": "python",
   "nbconvert_exporter": "python",
   "pygments_lexer": "ipython3",
   "version": "3.6.7"
  }
 },
 "nbformat": 4,
 "nbformat_minor": 2
}
